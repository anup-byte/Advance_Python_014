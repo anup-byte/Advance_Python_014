{
 "cells": [
  {
   "cell_type": "code",
   "execution_count": 1,
   "metadata": {},
   "outputs": [
    {
     "name": "stdout",
     "output_type": "stream",
     "text": [
      "<__main__.Circle object at 0x106643cd0>\n"
     ]
    }
   ],
   "source": [
    "class Circle(object):\n",
    "\n",
    "    def __init__(self,radius):\n",
    "        self.__radius = radius\n",
    "\n",
    "c = Circle(10)\n",
    "print(c)       "
   ]
  },
  {
   "cell_type": "code",
   "execution_count": null,
   "metadata": {},
   "outputs": [],
   "source": [
    "__str__"
   ]
  },
  {
   "cell_type": "code",
   "execution_count": 2,
   "metadata": {},
   "outputs": [
    {
     "name": "stdout",
     "output_type": "stream",
     "text": [
      "This is a Circle class which takes radius as an argument\n"
     ]
    }
   ],
   "source": [
    "class Circle(object):\n",
    "\n",
    "    def __init__(self,radius):\n",
    "        self.__radius = radius\n",
    "\n",
    "\n",
    "    def __str__(self):\n",
    "\n",
    "        return \"This is a Circle class which takes radius as an argument\"\n",
    "\n",
    "\n",
    "c = Circle(10)\n",
    "print(c)       "
   ]
  },
  {
   "cell_type": "code",
   "execution_count": 3,
   "metadata": {},
   "outputs": [],
   "source": [
    "class Mother:\n",
    "\n",
    "    def print(self):\n",
    "\n",
    "        print(\"Print of Mother called\")\n",
    "\n",
    "class Father:\n",
    "\n",
    "    def print(self):\n",
    "\n",
    "        print(\"Print of Father called\") \n",
    "\n",
    "class Child(Father,Mother):\n",
    "\n",
    "    def __init__(self, name):\n",
    "        self.name = name  \n",
    "\n",
    "\n",
    "    def printChild(self):\n",
    "        print(\"Name of child is \", self.name)                "
   ]
  },
  {
   "cell_type": "code",
   "execution_count": 4,
   "metadata": {},
   "outputs": [],
   "source": [
    "c = Child(\"Ketan\")"
   ]
  },
  {
   "cell_type": "code",
   "execution_count": 5,
   "metadata": {},
   "outputs": [
    {
     "name": "stdout",
     "output_type": "stream",
     "text": [
      "Name of child is  Ketan\n"
     ]
    }
   ],
   "source": [
    "c.printChild()"
   ]
  },
  {
   "cell_type": "code",
   "execution_count": 6,
   "metadata": {},
   "outputs": [
    {
     "name": "stdout",
     "output_type": "stream",
     "text": [
      "Print of Father called\n"
     ]
    }
   ],
   "source": [
    "c.print()"
   ]
  },
  {
   "cell_type": "code",
   "execution_count": 7,
   "metadata": {},
   "outputs": [],
   "source": [
    "class Mother:\n",
    "\n",
    "    def print(self):\n",
    "\n",
    "        print(\"Print of Mother called\")\n",
    "\n",
    "class Father:\n",
    "\n",
    "    def print(self):\n",
    "\n",
    "        print(\"Print of Father called\") \n",
    "\n",
    "class Child(Mother, Father):\n",
    "\n",
    "    def __init__(self, name):\n",
    "        self.name = name  \n",
    "\n",
    "\n",
    "    def printChild(self):\n",
    "        print(\"Name of child is \", self.name)                "
   ]
  },
  {
   "cell_type": "code",
   "execution_count": 8,
   "metadata": {},
   "outputs": [],
   "source": [
    "c = Child(\"Bhagwan\")"
   ]
  },
  {
   "cell_type": "code",
   "execution_count": 9,
   "metadata": {},
   "outputs": [
    {
     "name": "stdout",
     "output_type": "stream",
     "text": [
      "Print of Mother called\n"
     ]
    }
   ],
   "source": [
    "c.print()"
   ]
  },
  {
   "cell_type": "code",
   "execution_count": 11,
   "metadata": {},
   "outputs": [],
   "source": [
    "class Mother:\n",
    "\n",
    "    def __init__(self):\n",
    "        self.name = \"Shakti\"\n",
    "\n",
    "\n",
    "    def print(self):\n",
    "\n",
    "        print(\"Print of Mother called\")\n",
    "\n",
    "class Father:\n",
    "\n",
    "    def __init__(self):\n",
    "        self.name = \"Shiva\"\n",
    "\n",
    "    def print(self):\n",
    "\n",
    "        print(\"Print of Father called\") \n",
    "\n",
    "class Child(Mother, Father):\n",
    "\n",
    "    def __init__(self):\n",
    "        super().__init__()\n",
    "        \n",
    "\n",
    "    def printChild(self):\n",
    "        print(\"Name of child is \", self.name)                "
   ]
  },
  {
   "cell_type": "code",
   "execution_count": 12,
   "metadata": {},
   "outputs": [],
   "source": [
    "c = Child()"
   ]
  },
  {
   "cell_type": "code",
   "execution_count": 13,
   "metadata": {},
   "outputs": [
    {
     "name": "stdout",
     "output_type": "stream",
     "text": [
      "Name of child is  Shakti\n"
     ]
    }
   ],
   "source": [
    "c.printChild()"
   ]
  },
  {
   "cell_type": "code",
   "execution_count": 14,
   "metadata": {},
   "outputs": [],
   "source": [
    "class Mother:\n",
    "\n",
    "    def __init__(self):\n",
    "        self.name = \"Shakti\"\n",
    "\n",
    "\n",
    "    def print(self):\n",
    "\n",
    "        print(\"Print of Mother called\")\n",
    "\n",
    "class Father:\n",
    "\n",
    "    def __init__(self):\n",
    "        self.name = \"Shiva\"\n",
    "\n",
    "    def print(self):\n",
    "\n",
    "        print(\"Print of Father called\") \n",
    "\n",
    "class Child(Father, Mother):\n",
    "\n",
    "    def __init__(self):\n",
    "        super().__init__()\n",
    "        \n",
    "\n",
    "    def printChild(self):\n",
    "        print(\"Name of child is \", self.name)                "
   ]
  },
  {
   "cell_type": "code",
   "execution_count": 15,
   "metadata": {},
   "outputs": [],
   "source": [
    "c = Child()"
   ]
  },
  {
   "cell_type": "code",
   "execution_count": 16,
   "metadata": {},
   "outputs": [
    {
     "name": "stdout",
     "output_type": "stream",
     "text": [
      "Name of child is  Shiva\n"
     ]
    }
   ],
   "source": [
    "c.printChild()"
   ]
  }
 ],
 "metadata": {
  "kernelspec": {
   "display_name": "Python 3",
   "language": "python",
   "name": "python3"
  },
  "language_info": {
   "codemirror_mode": {
    "name": "ipython",
    "version": 3
   },
   "file_extension": ".py",
   "mimetype": "text/x-python",
   "name": "python",
   "nbconvert_exporter": "python",
   "pygments_lexer": "ipython3",
   "version": "3.11.3"
  }
 },
 "nbformat": 4,
 "nbformat_minor": 2
}
